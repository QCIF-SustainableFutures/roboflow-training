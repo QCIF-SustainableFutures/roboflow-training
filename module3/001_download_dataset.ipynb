{
 "cells": [
  {
   "cell_type": "markdown",
   "metadata": {},
   "source": [
    "<div align=\"center\">\n",
    "  <p>\n",
    "    <a align=\"center\" href=\"\" target=\"_blank\">\n",
    "      <img\n",
    "        width=\"200\"\n",
    "        src=\"../assets/qcif-logo.png\"\n",
    "      >\n",
    "    </a>\n",
    "  </p>\n",
    "</div>"
   ]
  },
  {
   "cell_type": "markdown",
   "metadata": {},
   "source": [
    "# Module 3: Training Evaluation and Model Deployment\n",
    "## Downloading data from an open-source database\n",
    "In this module we will learn how to download data from an open-source database"
   ]
  },
  {
   "cell_type": "code",
   "execution_count": null,
   "metadata": {},
   "outputs": [],
   "source": [
    "# Install the required packages\n",
    "# Open a terminal and run the following command\n",
    "# pip install roboflow\n",
    "# pip install ultralytics\n",
    "# pip install supervision\n",
    "#pip install opencv-python"
   ]
  },
  {
   "cell_type": "code",
   "execution_count": 6,
   "metadata": {},
   "outputs": [],
   "source": [
    "from roboflow import Roboflow\n",
    "import ultralytics"
   ]
  },
  {
   "cell_type": "markdown",
   "metadata": {},
   "source": [
    "### Download the dataset from Roboflow"
   ]
  },
  {
   "cell_type": "code",
   "execution_count": null,
   "metadata": {},
   "outputs": [],
   "source": [
    "# Replace the api_key with your own api_key (you need a Roboflow account to get the api_key)\n",
    "rf = Roboflow(api_key=\"\")\n",
    "\n",
    "# Download this sample dataset by username 'work'\n",
    "project = rf.workspace(\"work-2nmwx\").project(\"elephant_aerial_google\")\n",
    "\n",
    "# Only 1 version available\n",
    "version = project.version(1)\n",
    "\n",
    "# Download the dataset in YOLOv8 format in the data folder\n",
    "dataset = version.download(\"yolov8\", location='data')"
   ]
  },
  {
   "cell_type": "markdown",
   "metadata": {},
   "source": [
    "## Where can I find other datasets?\n",
    "Have a look at [Roboflow Universe](https://universe.roboflow.com/) for a list of open-source datasets."
   ]
  }
 ],
 "metadata": {
  "kernelspec": {
   "display_name": ".venv",
   "language": "python",
   "name": "python3"
  },
  "language_info": {
   "codemirror_mode": {
    "name": "ipython",
    "version": 3
   },
   "file_extension": ".py",
   "mimetype": "text/x-python",
   "name": "python",
   "nbconvert_exporter": "python",
   "pygments_lexer": "ipython3",
   "version": "3.9.6"
  }
 },
 "nbformat": 4,
 "nbformat_minor": 2
}
