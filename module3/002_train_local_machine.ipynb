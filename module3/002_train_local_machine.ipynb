{
 "cells": [
  {
   "cell_type": "markdown",
   "metadata": {},
   "source": [
    "<div align=\"center\">\n",
    "  <p>\n",
    "    <a align=\"center\" href=\"\" target=\"_blank\">\n",
    "      <img\n",
    "        width=\"200\"\n",
    "        src=\"../assets/qcif-logo.png\"\n",
    "      >\n",
    "    </a>\n",
    "  </p>\n",
    "</div>\n",
    "\n",
    "# Module 3: Training Evaluation and Model Deployment\n",
    "## Training a computer vision model in a local machine\n",
    "\n",
    "This notebook covers the basics of running a 'light-weight' computer vision model training on a local machine. We will be using yolov8x model to train on a custom dataset downloaded from Roboflow Universe. \n",
    "\n",
    "‼️ **NOTE:** This notebook is intended to be run on a local machine with a GPU. If you are running this notebook on a local machine without a GPU, you may need to adjust the batch size and number of epochs to avoid running out of memory."
   ]
  },
  {
   "cell_type": "code",
   "execution_count": null,
   "metadata": {},
   "outputs": [],
   "source": [
    "# Install the required packages\n",
    "# Open a terminal and run the following command\n",
    "# pip install roboflow\n",
    "# pip install ultralytics"
   ]
  },
  {
   "cell_type": "markdown",
   "metadata": {},
   "source": [
    "### Import the libraries"
   ]
  },
  {
   "cell_type": "code",
   "execution_count": null,
   "metadata": {},
   "outputs": [],
   "source": [
    "from roboflow import Roboflow\n",
    "from ultralytics import YOLO"
   ]
  },
  {
   "cell_type": "markdown",
   "metadata": {},
   "source": [
    "### Download a dataset from Roboflow Universe\n",
    "Requires a free Roboflow account. You can sign up [here](https://app.roboflow.com/signup). API key is available in the account settings."
   ]
  },
  {
   "cell_type": "code",
   "execution_count": null,
   "metadata": {},
   "outputs": [],
   "source": [
    "# Replace the api_key with your own api_key (you need a Roboflow account to get the api_key)\n",
    "rf = Roboflow(api_key=\"\")\n",
    "\n",
    "# Download this sample dataset by username 'work'\n",
    "project = rf.workspace(\"work-2nmwx\").project(\"elephant_aerial_google\")\n",
    "\n",
    "# Only 1 version available\n",
    "version = project.version(1)\n",
    "\n",
    "# Download the dataset in YOLOv8 format in the data folder\n",
    "dataset = version.download(\"yolov8\", location=\"data\")"
   ]
  },
  {
   "cell_type": "markdown",
   "metadata": {},
   "source": [
    "### Check location of your dataset"
   ]
  },
  {
   "cell_type": "code",
   "execution_count": null,
   "metadata": {},
   "outputs": [],
   "source": [
    "print(dataset.location)"
   ]
  },
  {
   "cell_type": "markdown",
   "metadata": {},
   "source": [
    "### ⚠️ Manually change the dataset path in the yaml file ⚠️\n",
    "A yaml file is used to configure the training parameters. We need to adjust the dataset path in the yaml file to point to the location of the dataset on your local machine.\n",
    "\n",
    "In Google Colab, these issues are handled automatically. However, when running on a local machine, we need to manually adjust the dataset path in the yaml file."
   ]
  },
  {
   "cell_type": "markdown",
   "metadata": {},
   "source": [
    "### Load the YOLOV8 model using the ultralytics package"
   ]
  },
  {
   "cell_type": "code",
   "execution_count": null,
   "metadata": {},
   "outputs": [],
   "source": [
    "# Load a model\n",
    "model = YOLO(\"yolov8x.pt\")  # load a pretrained model (recommended for training)\n",
    "\n",
    "\n",
    "# Train the model using the dataset\n",
    "results = model.train(data= f\"{dataset.location}/data.yaml\", epochs=1, imgsz=640) # only 1 epoch for demonstration"
   ]
  }
 ],
 "metadata": {
  "kernelspec": {
   "display_name": ".venv",
   "language": "python",
   "name": "python3"
  },
  "language_info": {
   "codemirror_mode": {
    "name": "ipython",
    "version": 3
   },
   "file_extension": ".py",
   "mimetype": "text/x-python",
   "name": "python",
   "nbconvert_exporter": "python",
   "pygments_lexer": "ipython3",
   "version": "3.9.6"
  }
 },
 "nbformat": 4,
 "nbformat_minor": 2
}
