{
 "cells": [
  {
   "cell_type": "markdown",
   "metadata": {},
   "source": [
    "<div align=\"center\">\n",
    "  <p>\n",
    "    <a align=\"center\" href=\"\" target=\"_blank\">\n",
    "      <img\n",
    "        width=\"200\"\n",
    "        src=\"../assets/qcif-logo.png\"\n",
    "      >\n",
    "    </a>\n",
    "  </p>\n",
    "</div>\n",
    "\n",
    "# Module 2: Pre-processing workflows\n",
    "## Rename files using old and new names\n"
   ]
  },
  {
   "cell_type": "markdown",
   "metadata": {},
   "source": [
    "This is a common task in computer vision environmental monitoring projects. Datasets are downloaded from data collection methods and the files are named in a way that is not useful for the project.\n",
    "\n",
    "Ideally we want to rename the files into a format where each image has some sort of metadata in the filename. This metadata could be the date and time the image was taken, the location, the camera name, etc.\n",
    "\n",
    "For example, when using GoPros to collect data in the field, the files are named `GOPR0001.JPG`, `GOPR0002.JPG`, etc. We want to rename these files to include the date and time the image was taken, the location, and the camera name. For example, `2024-01-01_12-00-00_location_camera_name.JPG`.\n",
    "\n",
    "In this notebook, we will rename files using a CSV file that contains the old and new names. We will use the `pandas` library to read the CSV file and rename the files."
   ]
  },
  {
   "cell_type": "markdown",
   "metadata": {},
   "source": [
    "### Import the necessary libraries"
   ]
  },
  {
   "cell_type": "code",
   "execution_count": 1,
   "metadata": {},
   "outputs": [],
   "source": [
    "# Import necessary libraries\n",
    "import os \n",
    "import pandas as pd # pip install pandas\n",
    "import cv2  #pip install opencv-python"
   ]
  },
  {
   "cell_type": "markdown",
   "metadata": {},
   "source": [
    "### Define the paths where your files are located"
   ]
  },
  {
   "cell_type": "code",
   "execution_count": 2,
   "metadata": {},
   "outputs": [],
   "source": [
    "# Define paths\n",
    "input_folder = 'data/original'\n",
    "output_folder = 'data/new'\n",
    "csv_file = 'data/csv_map.csv'"
   ]
  },
  {
   "cell_type": "markdown",
   "metadata": {},
   "source": [
    "### Load, run the rename function and save the new files"
   ]
  },
  {
   "cell_type": "code",
   "execution_count": 3,
   "metadata": {},
   "outputs": [
    {
     "name": "stdout",
     "output_type": "stream",
     "text": [
      "Saved image as image1_migration.jpg\n",
      "Saved image as image2_elephants.jpg\n",
      "Saved image as image3_elephants.jpg\n"
     ]
    }
   ],
   "source": [
    "# Load CSV file\n",
    "df = pd.read_csv(csv_file)\n",
    "\n",
    "# Ensure output directory exists\n",
    "os.makedirs(output_folder, exist_ok=True)\n",
    "\n",
    "# Function to rename and save images\n",
    "def rename_and_save_image(image_path, new_name, output_folder):\n",
    "    # Read the image\n",
    "    image = cv2.imread(image_path)\n",
    "    \n",
    "    # Define the new path for saving\n",
    "    new_path = os.path.join(output_folder, new_name)\n",
    "    \n",
    "    # Save the image\n",
    "    cv2.imwrite(new_path, image)\n",
    "    print(f'Saved image as {new_name}')\n",
    "\n",
    "# Iterate over the DataFrame and rename images\n",
    "for index, row in df.iterrows():\n",
    "    original_name = row['original_name']\n",
    "    new_name = row['new_name']\n",
    "    \n",
    "    # Construct full file paths\n",
    "    original_image_path = os.path.join(input_folder, original_name)\n",
    "    \n",
    "    # Check if the original image exists\n",
    "    if os.path.exists(original_image_path):\n",
    "        rename_and_save_image(original_image_path, new_name, output_folder)\n",
    "    else:\n",
    "        print(f'File not found: {original_image_path}')"
   ]
  }
 ],
 "metadata": {
  "kernelspec": {
   "display_name": ".venv",
   "language": "python",
   "name": "python3"
  },
  "language_info": {
   "codemirror_mode": {
    "name": "ipython",
    "version": 3
   },
   "file_extension": ".py",
   "mimetype": "text/x-python",
   "name": "python",
   "nbconvert_exporter": "python",
   "pygments_lexer": "ipython3",
   "version": "3.9.6"
  }
 },
 "nbformat": 4,
 "nbformat_minor": 2
}
