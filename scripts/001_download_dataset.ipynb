{
 "cells": [
  {
   "cell_type": "markdown",
   "metadata": {},
   "source": [
    "<div align=\"center\">\n",
    "  <p>\n",
    "    <a align=\"center\" href=\"\" target=\"_blank\">\n",
    "      <img\n",
    "        width=\"850\"\n",
    "        src=\"assets/qcif-logo.png\"\n",
    "      >\n",
    "    </a>\n",
    "  </p>\n",
    "</div>"
   ]
  },
  {
   "cell_type": "markdown",
   "metadata": {},
   "source": [
    "# Module 2: Pre-processing workflows\n",
    "In this model, we will cover the following topics:\n",
    " 1. How to automatically rename videos and images\n",
    " 2. "
   ]
  },
  {
   "cell_type": "code",
   "execution_count": null,
   "metadata": {},
   "outputs": [],
   "source": [
    "# Install the required packages\n",
    "# Open a terminal and run the following command\n",
    "# pip install roboflow"
   ]
  },
  {
   "cell_type": "code",
   "execution_count": null,
   "metadata": {},
   "outputs": [],
   "source": [
    "from roboflow import Roboflow\n",
    "\n",
    "# Replace the api_key with your own api_key (you need a Roboflow account to get the api_key)\n",
    "rf = Roboflow(api_key=\"\")\n",
    "\n",
    "# Download this sample dataset by username 'work'\n",
    "project = rf.workspace(\"work-2nmwx\").project(\"elephant_aerial_google\")\n",
    "\n",
    "# Only 1 version available\n",
    "version = project.version(1)\n",
    "\n",
    "# Download the dataset in YOLOv8 format\n",
    "dataset = version.download(\"yolov8\")"
   ]
  }
 ],
 "metadata": {
  "kernelspec": {
   "display_name": ".venv",
   "language": "python",
   "name": "python3"
  },
  "language_info": {
   "name": "python",
   "version": "3.9.6"
  }
 },
 "nbformat": 4,
 "nbformat_minor": 2
}
